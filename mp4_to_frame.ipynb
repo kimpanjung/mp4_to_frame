{
 "cells": [
  {
   "cell_type": "code",
   "execution_count": 1,
   "metadata": {},
   "outputs": [
    {
     "name": "stdout",
     "output_type": "stream",
     "text": [
      "프레임 수: 756, 폭: 1280, 높이: 720, FPS: 30.0\n"
     ]
    }
   ],
   "source": [
    "import cv2\n",
    "\n",
    "# 동영상 파일 경로 설정\n",
    "video_path = 'test.mp4'\n",
    "\n",
    "# 동영상 파일 열기\n",
    "cap = cv2.VideoCapture(video_path)\n",
    "\n",
    "# 동영상 파일이 정상적으로 열렸는지 확인\n",
    "if not cap.isOpened():\n",
    "    print(\"동영상 파일을 열 수 없습니다.\")\n",
    "    exit()\n",
    "\n",
    "# 프레임 수 및 동영상의 폭과 높이 가져오기\n",
    "frame_count = int(cap.get(cv2.CAP_PROP_FRAME_COUNT))\n",
    "width = int(cap.get(cv2.CAP_PROP_FRAME_WIDTH))\n",
    "height = int(cap.get(cv2.CAP_PROP_FRAME_HEIGHT))\n",
    "fps = cap.get(cv2.CAP_PROP_FPS)\n",
    "\n",
    "print(f\"프레임 수: {frame_count}, 폭: {width}, 높이: {height}, FPS: {fps}\")\n",
    "\n",
    "# 각 프레임을 이미지로 추출\n",
    "while True:\n",
    "    ret, frame = cap.read()  # 프레임 읽기\n",
    "    if not ret:\n",
    "        break  # 더 이상 프레임이 없으면 종료\n",
    "\n",
    "    # 여기에 프레임 처리 코드를 추가하세요 (예: 이미지 저장)\n",
    "    # frame 변수에는 현재 프레임의 이미지 데이터가 포함됩니다.\n",
    "\n",
    "    # 예시: 프레임을 파일로 저장\n",
    "    frame_number = int(cap.get(cv2.CAP_PROP_POS_FRAMES))\n",
    "    cv2.imwrite(f'frame_{frame_number}.jpg', frame)\n",
    "\n",
    "# 동영상 파일 닫기\n",
    "cap.release()\n"
   ]
  },
  {
   "cell_type": "code",
   "execution_count": null,
   "metadata": {},
   "outputs": [],
   "source": []
  }
 ],
 "metadata": {
  "kernelspec": {
   "display_name": "playground",
   "language": "python",
   "name": "python3"
  },
  "language_info": {
   "codemirror_mode": {
    "name": "ipython",
    "version": 3
   },
   "file_extension": ".py",
   "mimetype": "text/x-python",
   "name": "python",
   "nbconvert_exporter": "python",
   "pygments_lexer": "ipython3",
   "version": "3.8.17"
  }
 },
 "nbformat": 4,
 "nbformat_minor": 2
}
